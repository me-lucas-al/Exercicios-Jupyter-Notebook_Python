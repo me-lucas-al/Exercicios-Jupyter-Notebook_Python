{
 "cells": [
  {
   "cell_type": "markdown",
   "id": "55762f1c",
   "metadata": {},
   "source": [
    "18º) Digamos que você está analisando as vendas de produtos de um ecommerce e quer identificar quais produtos tiveram no ano de 2020 mais vendas do que no ano de 2019, para reportar isso para a diretoria.\n",
    "\n",
    "Sua resposta pode ser um print de cada produto, qual foi a venda de 2019, a venda de 2020 e o % de crescimento de 2020 para 2019.\n",
    "\n",
    "Lembrando, para calcular o % de crescimento de um produto de um ano para o outro, podemos fazer: (vendas_produto2020/vendas_produto2019 - 1)\n",
    "\n",
    "A lógica da tupla é: (produto, vendas2019, vendas2020)"
   ]
  },
  {
   "cell_type": "code",
   "execution_count": 4,
   "id": "6771b9d8",
   "metadata": {},
   "outputs": [
    {
     "name": "stdout",
     "output_type": "stream",
     "text": [
      "Relatório de Vendas (2021 + 2022)\n",
      "\n",
      " 1 - geladeira          R$ 1,683,470.00\n",
      " 2 - máquina de café    R$ 1,586,314.00\n",
      " 3 - câmera canon       R$ 1,585,423.00\n",
      " 4 - adega              R$ 1,538,308.00\n",
      " 5 - iphone             R$ 1,509,789.00\n",
      " 6 - caixa de som       R$ 1,215,021.00\n",
      " 7 - notebook asus      R$ 1,211,892.00\n",
      " 8 - tv                 R$ 1,192,856.00\n",
      " 9 - notebook dell      R$ 1,117,673.00\n",
      "10 - microsoft surface  R$ 1,105,687.00\n",
      "11 - microfone          R$ 972,933.00\n",
      "12 - galaxy             R$ 956,645.00\n",
      "13 - notebook hp        R$ 694,457.00\n",
      "14 - kindle             R$ 610,410.00\n",
      "15 - ipad               R$ 600,787.00\n",
      "16 - webcam             R$ 533,100.00\n",
      "\n",
      "Resumo:\n",
      "Produto mais vendido : geladeira (R$ 1,683,470.00)\n",
      "Produto menos vendido: webcam (R$ 533,100.00)\n"
     ]
    }
   ],
   "source": [
    "vendas_produtos = [\n",
    "    ('iphone', 558147, 951642),\n",
    "    ('galaxy', 712350, 244295),\n",
    "    ('ipad', 573823, 26964),\n",
    "    ('tv', 405252, 787604),\n",
    "    ('máquina de café', 718654, 867660),\n",
    "    ('kindle', 531580, 78830),\n",
    "    ('geladeira', 973139, 710331),\n",
    "    ('adega', 892292, 646016),\n",
    "    ('notebook dell', 422760, 694913),\n",
    "    ('notebook hp', 154753, 539704),\n",
    "    ('notebook asus', 887061, 324831),\n",
    "    ('microsoft surface', 438508, 667179),\n",
    "    ('webcam', 237467, 295633),\n",
    "    ('caixa de som', 489705, 725316),\n",
    "    ('microfone', 328311, 644622),\n",
    "    ('câmera canon', 591120, 994303)\n",
    "]\n",
    "\n",
    "totais = []\n",
    "for produto, vendas21, vendas22 in vendas_produtos:\n",
    "    total = vendas21 + vendas22\n",
    "    totais.append((produto, total))\n",
    "\n",
    "totais.sort(key=lambda x: x[1], reverse=True)\n",
    "\n",
    "print(\"Relatório de Vendas (2021 + 2022)\\n\")\n",
    "for pos, (produto, total) in enumerate(totais, start=1):\n",
    "    print(f\"{pos:2d} - {produto:<18} R$ {total:,.2f}\")\n",
    "\n",
    "mais_vendido = max(totais, key=lambda x: x[1])\n",
    "menos_vendido = min(totais, key=lambda x: x[1])\n",
    "\n",
    "print(\"\\nResumo:\")\n",
    "print(f\"Produto mais vendido : {mais_vendido[0]} (R$ {mais_vendido[1]:,.2f})\")\n",
    "print(f\"Produto menos vendido: {menos_vendido[0]} (R$ {menos_vendido[1]:,.2f})\")\n"
   ]
  }
 ],
 "metadata": {
  "kernelspec": {
   "display_name": "Python 3",
   "language": "python",
   "name": "python3"
  },
  "language_info": {
   "codemirror_mode": {
    "name": "ipython",
    "version": 3
   },
   "file_extension": ".py",
   "mimetype": "text/x-python",
   "name": "python",
   "nbconvert_exporter": "python",
   "pygments_lexer": "ipython3",
   "version": "3.11.1"
  }
 },
 "nbformat": 4,
 "nbformat_minor": 5
}
