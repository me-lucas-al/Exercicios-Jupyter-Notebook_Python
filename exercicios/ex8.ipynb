{
 "cells": [
  {
   "cell_type": "markdown",
   "id": "fec0e064",
   "metadata": {},
   "source": [
    "8º) Escreva um programa que leia três números e que imprima o maior e o menor."
   ]
  },
  {
   "cell_type": "code",
   "execution_count": 2,
   "id": "5ed99568",
   "metadata": {},
   "outputs": [
    {
     "name": "stdout",
     "output_type": "stream",
     "text": [
      "342423423\n",
      "500\n"
     ]
    }
   ],
   "source": [
    "numero1 = int(input(\"Digite o primeiro número: \"));\n",
    "numero2 = int(input(\"Digite o segundo número: \"));\n",
    "numero3 = int(input(\"Digite o terceiro número: \"));\n",
    "\n",
    "numeros = [numero1, numero2, numero3];\n",
    "\n",
    "numeros.sort(reverse=True);\n",
    "\n",
    "print(numeros[0]);\n",
    "print(numeros[-1]);"
   ]
  }
 ],
 "metadata": {
  "kernelspec": {
   "display_name": "Python 3",
   "language": "python",
   "name": "python3"
  },
  "language_info": {
   "codemirror_mode": {
    "name": "ipython",
    "version": 3
   },
   "file_extension": ".py",
   "mimetype": "text/x-python",
   "name": "python",
   "nbconvert_exporter": "python",
   "pygments_lexer": "ipython3",
   "version": "3.11.1"
  }
 },
 "nbformat": 4,
 "nbformat_minor": 5
}
