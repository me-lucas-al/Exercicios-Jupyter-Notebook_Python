{
 "cells": [
  {
   "cell_type": "markdown",
   "id": "aa432a78",
   "metadata": {},
   "source": [
    "9º) Escreva um programa que pergunte o salário do funcionário e calcule o valor do aumento. Para salários superiores a R$ 1.250,00, calcule um aumento de 10%. Para os inferiores ou iguais, de 15%."
   ]
  },
  {
   "cell_type": "code",
   "execution_count": 2,
   "id": "147f16f5",
   "metadata": {},
   "outputs": [
    {
     "name": "stdout",
     "output_type": "stream",
     "text": [
      "2200.0\n"
     ]
    }
   ],
   "source": [
    "salario = float(input(\"Digite o seu salário:\"));\n",
    "\n",
    "if(salario > 1250):\n",
    "    salario = salario * 1.1;\n",
    "else:\n",
    "    salario = salario * 1.15;\n",
    "\n",
    "print(salario);"
   ]
  }
 ],
 "metadata": {
  "kernelspec": {
   "display_name": "Python 3",
   "language": "python",
   "name": "python3"
  },
  "language_info": {
   "codemirror_mode": {
    "name": "ipython",
    "version": 3
   },
   "file_extension": ".py",
   "mimetype": "text/x-python",
   "name": "python",
   "nbconvert_exporter": "python",
   "pygments_lexer": "ipython3",
   "version": "3.11.1"
  }
 },
 "nbformat": 4,
 "nbformat_minor": 5
}
