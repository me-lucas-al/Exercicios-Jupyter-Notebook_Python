{
 "cells": [
  {
   "cell_type": "markdown",
   "id": "9d2c032c",
   "metadata": {},
   "source": [
    "14º) Escreva um programa que pergunte o valor inicial de uma dívida e o juro mensal. Pergunte também o valor mensal que será pago. Imprima o número de meses para que a dívida seja paga, o total pago e o total de juros pago."
   ]
  },
  {
   "cell_type": "code",
   "execution_count": null,
   "id": "e58b98dc",
   "metadata": {},
   "outputs": [
    {
     "name": "stdout",
     "output_type": "stream",
     "text": [
      "Meses para pagar: 21  meses\n",
      "Total pago: R$10500.0\n",
      "Juros pago: R$500.0\n"
     ]
    }
   ],
   "source": [
    "\n",
    "import math\n",
    "\n",
    "valorInicial = float(input(\"Digite o valor inicial da dívida: \"))\n",
    "juroMensal = float(input(\"Digite o juro mensal (em %): \"))\n",
    "valorMensal = float(input(\"Digite o valor mensal: \"))\n",
    "\n",
    "tempoPagamento = math.ceil((valorInicial + (valorInicial * juroMensal / 100)) / valorMensal);\n",
    "totalPago = tempoPagamento * valorMensal\n",
    "totalJuros = totalPago - valorInicial\n",
    "\n",
    "print(\"Meses para pagar:\", tempoPagamento, \" meses\")\n",
    "print(f\"Total pago: R${totalPago}\");\n",
    "print(f\"Juros pago: R${totalJuros}\");\n"
   ]
  }
 ],
 "metadata": {
  "kernelspec": {
   "display_name": "Python 3",
   "language": "python",
   "name": "python3"
  },
  "language_info": {
   "codemirror_mode": {
    "name": "ipython",
    "version": 3
   },
   "file_extension": ".py",
   "mimetype": "text/x-python",
   "name": "python",
   "nbconvert_exporter": "python",
   "pygments_lexer": "ipython3",
   "version": "3.12.0"
  }
 },
 "nbformat": 4,
 "nbformat_minor": 5
}
