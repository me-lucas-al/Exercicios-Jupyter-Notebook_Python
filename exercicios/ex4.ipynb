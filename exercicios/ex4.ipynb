{
 "cells": [
  {
   "cell_type": "markdown",
   "id": "1ff621b1",
   "metadata": {},
   "source": [
    "4º) Faça um programa que solicite o preço de uma mercadoria e o percentual de desconto. Exiba o valor do desconto e o preço a pagar."
   ]
  },
  {
   "cell_type": "code",
   "execution_count": 3,
   "id": "cd9f61d7",
   "metadata": {},
   "outputs": [
    {
     "name": "stdout",
     "output_type": "stream",
     "text": [
      "Valor anterior: 250.0\n",
      "Desconto: 37.5\n",
      "Valor descontado: 212.5\n"
     ]
    }
   ],
   "source": [
    "price = float(input(f\"Digite o preço do produto: \"));\n",
    "\n",
    "percent = float(input(f\"Digite a porcentagem de desconto do produto: \"))/100;\n",
    "\n",
    "discount = price * percent;\n",
    "\n",
    "totalValue = price - discount;\n",
    "\n",
    "print(f\"Valor anterior: {price}\");\n",
    "print(f\"Desconto: {discount}\");\n",
    "print(f\"Valor descontado: {totalValue}\");"
   ]
  }
 ],
 "metadata": {
  "kernelspec": {
   "display_name": "Python 3",
   "language": "python",
   "name": "python3"
  },
  "language_info": {
   "codemirror_mode": {
    "name": "ipython",
    "version": 3
   },
   "file_extension": ".py",
   "mimetype": "text/x-python",
   "name": "python",
   "nbconvert_exporter": "python",
   "pygments_lexer": "ipython3",
   "version": "3.11.1"
  }
 },
 "nbformat": 4,
 "nbformat_minor": 5
}
