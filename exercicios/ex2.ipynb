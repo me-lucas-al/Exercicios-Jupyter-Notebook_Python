{
 "cells": [
  {
   "cell_type": "markdown",
   "id": "cead1334",
   "metadata": {},
   "source": [
    "2º) Escreva um programa que leia a quantidade de dias, horas, minutos e segundos do usuário. Calcule o total em segundos."
   ]
  },
  {
   "cell_type": "code",
   "execution_count": 1,
   "id": "2456cc7a",
   "metadata": {},
   "outputs": [
    {
     "name": "stdout",
     "output_type": "stream",
     "text": [
      "900610\n"
     ]
    }
   ],
   "source": [
    "userDays = int(input(\"Digite a quantidade de dias do usuário: \"));\n",
    "userHours = int(input(\"Digite a quantidade de horas do usuário: \"));\n",
    "userMinutes = int(input(\"Digite a quantidade de minutos do usuário: \"));\n",
    "userSeconds = int(input(\"Digite a quantidade de segundos do usuário: \"));\n",
    "\n",
    "seconds = ((userDays * 24 * 60 * 60) + (userHours * 60 * 60) + (userMinutes * 60) + userSeconds);\n",
    "\n",
    "print(seconds)"
   ]
  }
 ],
 "metadata": {
  "kernelspec": {
   "display_name": "Python 3",
   "language": "python",
   "name": "python3"
  },
  "language_info": {
   "codemirror_mode": {
    "name": "ipython",
    "version": 3
   },
   "file_extension": ".py",
   "mimetype": "text/x-python",
   "name": "python",
   "nbconvert_exporter": "python",
   "pygments_lexer": "ipython3",
   "version": "3.11.1"
  }
 },
 "nbformat": 4,
 "nbformat_minor": 5
}
