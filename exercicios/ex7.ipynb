{
 "cells": [
  {
   "cell_type": "markdown",
   "id": "b1959cc6",
   "metadata": {},
   "source": [
    "7º) Escreva um programa para calcular a redução do tempo de vida de um fumante. Pergunte a quantidade de cigarros fumados por dia e quantos anos ele já fumou. Considere que um fumante perde 10 minutos de vida a cada cigarro, e calcule quantos dias de vida um fumante perderá. Exiba o total em dias. "
   ]
  },
  {
   "cell_type": "code",
   "execution_count": 5,
   "id": "839ea0b5",
   "metadata": {},
   "outputs": [
    {
     "name": "stdout",
     "output_type": "stream",
     "text": [
      "O tempo perdido de vida é: 506.94 dias\n"
     ]
    }
   ],
   "source": [
    "cigarrosDia = int(input(\"Digite a quantidade de cigarros fumados por dia: \"));\n",
    "anos = int(input(\"Digite a quantidade de anos que o usuário fumou\"));\n",
    "\n",
    "tempoVida = (cigarrosDia * anos * 365 * 10) / 1440;\n",
    "\n",
    "print(f\"O tempo perdido de vida é: {tempoVida:.2f} dias\");"
   ]
  }
 ],
 "metadata": {
  "kernelspec": {
   "display_name": "Python 3",
   "language": "python",
   "name": "python3"
  },
  "language_info": {
   "codemirror_mode": {
    "name": "ipython",
    "version": 3
   },
   "file_extension": ".py",
   "mimetype": "text/x-python",
   "name": "python",
   "nbconvert_exporter": "python",
   "pygments_lexer": "ipython3",
   "version": "3.11.1"
  }
 },
 "nbformat": 4,
 "nbformat_minor": 5
}
