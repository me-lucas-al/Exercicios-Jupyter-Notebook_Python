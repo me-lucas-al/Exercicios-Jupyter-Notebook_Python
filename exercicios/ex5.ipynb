{
 "cells": [
  {
   "cell_type": "markdown",
   "id": "474af943",
   "metadata": {},
   "source": [
    "5º) Escreva um programa que calcule o tempo de uma viagem de carro. Pergunte a distância a percorrer e a velocidade média esperada para a viagem."
   ]
  },
  {
   "cell_type": "code",
   "execution_count": 2,
   "id": "4dbaddcc",
   "metadata": {},
   "outputs": [
    {
     "name": "stdout",
     "output_type": "stream",
     "text": [
      "O tempo total é  1.25  horas\n"
     ]
    }
   ],
   "source": [
    "distancia = int(input(\"Digite a distancia (em km) para percorrer na viagem: \"));\n",
    "velocidade = int(input(\"Digite a velocidade média (em km/h) esperada na viagem: \"));\n",
    "\n",
    "tempo = distancia / velocidade ;\n",
    "\n",
    "print(\"O tempo total é \", tempo, \" horas\");"
   ]
  }
 ],
 "metadata": {
  "kernelspec": {
   "display_name": "Python 3",
   "language": "python",
   "name": "python3"
  },
  "language_info": {
   "codemirror_mode": {
    "name": "ipython",
    "version": 3
   },
   "file_extension": ".py",
   "mimetype": "text/x-python",
   "name": "python",
   "nbconvert_exporter": "python",
   "pygments_lexer": "ipython3",
   "version": "3.11.1"
  }
 },
 "nbformat": 4,
 "nbformat_minor": 5
}
