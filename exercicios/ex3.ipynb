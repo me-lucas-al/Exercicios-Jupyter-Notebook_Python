{
 "cells": [
  {
   "cell_type": "markdown",
   "id": "83e7d162",
   "metadata": {},
   "source": [
    "3º) Faça um programa que calcule o aumento de um salário. Ele deve solicitar o valor do salário e a porcentagem do aumento. Exiba o valor do aumento e do novo salário."
   ]
  },
  {
   "cell_type": "code",
   "execution_count": 2,
   "id": "1d150ba7",
   "metadata": {},
   "outputs": [
    {
     "name": "stdout",
     "output_type": "stream",
     "text": [
      "1100.0\n"
     ]
    }
   ],
   "source": [
    "salary = float(input(f\"Digite o seu salário: \"));\n",
    "increasePercent = float(input(f\"Digite a porcentagem de aumento do salário\"))/100;\n",
    "\n",
    "increase = salary * increasePercent;\n",
    "\n",
    "totalIncrease = salary + increase;\n",
    "\n",
    "print(totalIncrease);"
   ]
  }
 ],
 "metadata": {
  "kernelspec": {
   "display_name": "Python 3",
   "language": "python",
   "name": "python3"
  },
  "language_info": {
   "codemirror_mode": {
    "name": "ipython",
    "version": 3
   },
   "file_extension": ".py",
   "mimetype": "text/x-python",
   "name": "python",
   "nbconvert_exporter": "python",
   "pygments_lexer": "ipython3",
   "version": "3.11.1"
  }
 },
 "nbformat": 4,
 "nbformat_minor": 5
}
