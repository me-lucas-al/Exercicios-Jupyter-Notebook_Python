{
 "cells": [
  {
   "cell_type": "markdown",
   "id": "3a7100b9",
   "metadata": {},
   "source": [
    "13º) Escreva um programa que pergunte o depósito inicial e a taxa de juros de uma poupança. Exiba os valores mês a mês para os 24 primeiros meses. Escreva o total ganho com juros no período. "
   ]
  },
  {
   "cell_type": "code",
   "execution_count": 33,
   "id": "cec704b3",
   "metadata": {},
   "outputs": [
    {
     "name": "stdout",
     "output_type": "stream",
     "text": [
      "Mês 1: R$ 1007.97\n",
      "Mês 2: R$ 1016.01\n",
      "Mês 3: R$ 1024.11\n",
      "Mês 4: R$ 1032.28\n",
      "Mês 5: R$ 1040.51\n",
      "Mês 6: R$ 1048.81\n",
      "Mês 7: R$ 1057.17\n",
      "Mês 8: R$ 1065.60\n",
      "Mês 9: R$ 1074.10\n",
      "Mês 10: R$ 1082.66\n",
      "Mês 11: R$ 1091.30\n",
      "Mês 12: R$ 1100.00\n",
      "Mês 13: R$ 1108.77\n",
      "Mês 14: R$ 1117.61\n",
      "Mês 15: R$ 1126.53\n",
      "Mês 16: R$ 1135.51\n",
      "Mês 17: R$ 1144.56\n",
      "Mês 18: R$ 1153.69\n",
      "Mês 19: R$ 1162.89\n",
      "Mês 20: R$ 1172.16\n",
      "Mês 21: R$ 1181.51\n",
      "Mês 22: R$ 1190.93\n",
      "Mês 23: R$ 1200.43\n",
      "Mês 24: R$ 1210.00\n"
     ]
    }
   ],
   "source": [
    "deposito = float(input(\"Digite o seu depósito inicial da poupança: R$ \"))\n",
    "taxaJuros = float(input(\"Digite a taxa de juros ao ano (em %): \"))\n",
    "\n",
    "taxaAnual = taxaJuros / 100\n",
    "taxaJurosMes = (1 + taxaAnual) ** (1/12) - 1\n",
    "\n",
    "for i in range(1, 25):  # 24 meses\n",
    "    deposito *= (1 + taxaJurosMes)\n",
    "    print(f\"Mês {i}: R$ {deposito:.2f}\")\n"
   ]
  },
  {
   "cell_type": "code",
   "execution_count": null,
   "id": "88a2e3cf",
   "metadata": {},
   "outputs": [],
   "source": []
  }
 ],
 "metadata": {
  "kernelspec": {
   "display_name": "Python 3",
   "language": "python",
   "name": "python3"
  },
  "language_info": {
   "codemirror_mode": {
    "name": "ipython",
    "version": 3
   },
   "file_extension": ".py",
   "mimetype": "text/x-python",
   "name": "python",
   "nbconvert_exporter": "python",
   "pygments_lexer": "ipython3",
   "version": "3.11.1"
  }
 },
 "nbformat": 4,
 "nbformat_minor": 5
}
