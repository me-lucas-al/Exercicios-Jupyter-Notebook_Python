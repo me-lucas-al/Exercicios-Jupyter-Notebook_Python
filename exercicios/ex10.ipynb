{
 "cells": [
  {
   "cell_type": "markdown",
   "id": "49a55e16",
   "metadata": {},
   "source": [
    "10º) Escreva um programa que pergunte a distância que um passageiro deseja percorrer em km. Calcule o preço da passagem, cobrando 50 centavos por km para viagens de até de 200 km, e 45 centavos para viagens mais longas."
   ]
  },
  {
   "cell_type": "code",
   "execution_count": 2,
   "id": "64ebb418",
   "metadata": {},
   "outputs": [
    {
     "name": "stdout",
     "output_type": "stream",
     "text": [
      "O preço da viagem é: 180.00\n"
     ]
    }
   ],
   "source": [
    "distancia = int(input(\"Digite a distância que você deseja percorrer em km\"));\n",
    "\n",
    "preco = 0;\n",
    "\n",
    "if distancia <= 200:\n",
    "    preco = distancia * 0.5;\n",
    "else:\n",
    "    preco = distancia * 0.45;\n",
    "\n",
    "print(f\"O preço da viagem é: {preco:.2f}\");"
   ]
  }
 ],
 "metadata": {
  "kernelspec": {
   "display_name": "Python 3",
   "language": "python",
   "name": "python3"
  },
  "language_info": {
   "codemirror_mode": {
    "name": "ipython",
    "version": 3
   },
   "file_extension": ".py",
   "mimetype": "text/x-python",
   "name": "python",
   "nbconvert_exporter": "python",
   "pygments_lexer": "ipython3",
   "version": "3.11.1"
  }
 },
 "nbformat": 4,
 "nbformat_minor": 5
}
