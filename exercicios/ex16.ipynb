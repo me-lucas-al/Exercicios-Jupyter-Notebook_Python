{
 "cells": [
  {
   "cell_type": "markdown",
   "id": "e506ecbe",
   "metadata": {},
   "source": [
    "16º) Utilize uma lista para resolver o problema a seguir. Uma empresa paga seus vendedores com base em comissões. O vendedor recebe 200.00 reais por semana mais 9 por cento de suas vendas brutas daquela semana.<br>\n",
    "Por exemplo, um vendedor que teve vendas brutas de 3000.00 reais em uma semana recebe 200.00 reais mais 9 por cento de 3000.00, ou seja, um total de 470.00 reais. Escreva um programa (usando uma lista de contadores) que determine quantos vendedores receberam salários nos seguintes intervalos de valores:<br>\n",
    "a.\t200.00 - 299.00<br>\n",
    "b.\t300.00 - 399.00<br>\n",
    "c.\t400.00 - 499.00<br>\n",
    "d.\t500.00 - 599.00<br>\n",
    "e.\t600.00 - 699.00<br>\n",
    "f.\t700.00 - 799.00<br>\n",
    "g.\t800.00 - 899.00<br>\n",
    "h.\t900.00 - 999.00<br>\n",
    "i.\t1000.00 em diante<br>"
   ]
  },
  {
   "cell_type": "code",
   "execution_count": 42,
   "id": "ba172f50",
   "metadata": {},
   "outputs": [
    {
     "name": "stdout",
     "output_type": "stream",
     "text": [
      "Vendas: 3500, Comissão: 515.0\n",
      "\n",
      "Vendas: 3220, Comissão: 489.8\n",
      "\n",
      "Vendas: 4560, Comissão: 610.4\n",
      "\n",
      "Vendas: 2810, Comissão: 452.9\n",
      "\n",
      "Vendas: 12350, Comissão: 1311.5\n",
      "\n",
      "Vendas: 1590, Comissão: 343.1\n",
      "\n",
      "------------------------------ \n",
      "\n",
      "Faixa 200-299: 0 vendedor(es)\n",
      "Faixa 300-399: 1 vendedor(es)\n",
      "Faixa 400-499: 2 vendedor(es)\n",
      "Faixa 500-599: 1 vendedor(es)\n",
      "Faixa 600-699: 1 vendedor(es)\n",
      "Faixa 700-799: 0 vendedor(es)\n",
      "Faixa 800-899: 0 vendedor(es)\n",
      "Faixa 900-999: 0 vendedor(es)\n",
      "Faixa 1000+: 1 vendedor(es)\n"
     ]
    }
   ],
   "source": [
    "lista = [3500, 3220, 4560, 2810, 12350, 1590]  \n",
    "\n",
    "def comissao(vendas):\n",
    "    comissao = (vendas* (9/100)) + 200\n",
    "    return comissao\n",
    "\n",
    "faixas = [\n",
    "    \"200-299\",\n",
    "    \"300-399\",\n",
    "    \"400-499\",\n",
    "    \"500-599\",\n",
    "    \"600-699\",\n",
    "    \"700-799\",\n",
    "    \"800-899\",\n",
    "    \"900-999\",\n",
    "    \"1000+\"\n",
    "]\n",
    "contadores = [0] * len(faixas)\n",
    "\n",
    "for i in lista:\n",
    "    print(f\"Vendas: {i}, Comissão: {comissao(i)}\\n\")\n",
    "    if(comissao(i) > 200 and comissao(i) < 300):\n",
    "        contadores[0] += 1\n",
    "    elif(comissao(i) > 300 and comissao(i) < 400):\n",
    "        contadores[1] += 1\n",
    "    elif(comissao(i) > 400 and comissao(i) < 500):\n",
    "        contadores[2] += 1\n",
    "    elif(comissao(i) > 500 and comissao(i) < 600):\n",
    "        contadores[3] += 1\n",
    "    elif(comissao(i) > 600 and comissao(i) < 700):\n",
    "        contadores[4] += 1\n",
    "    elif(comissao(i) > 700 and comissao(i) < 800):\n",
    "        contadores[5] += 1\n",
    "    elif(comissao(i) > 800 and comissao(i) < 900):\n",
    "        contadores[6] += 1\n",
    "    elif(comissao(i) > 900 and comissao(i) < 1000):\n",
    "        contadores[7] += 1\n",
    "    elif(comissao(i) > 1000):\n",
    "        contadores[8] += 1        \n",
    "\n",
    "print(\"-\" * 30, \"\\n\")\n",
    "for faixa, quantidade in zip(faixas, contadores):\n",
    "    print(f\"Faixa {faixa}: {quantidade} vendedor(es)\")"
   ]
  }
 ],
 "metadata": {
  "kernelspec": {
   "display_name": "Python 3",
   "language": "python",
   "name": "python3"
  },
  "language_info": {
   "codemirror_mode": {
    "name": "ipython",
    "version": 3
   },
   "file_extension": ".py",
   "mimetype": "text/x-python",
   "name": "python",
   "nbconvert_exporter": "python",
   "pygments_lexer": "ipython3",
   "version": "3.12.0"
  }
 },
 "nbformat": 4,
 "nbformat_minor": 5
}
