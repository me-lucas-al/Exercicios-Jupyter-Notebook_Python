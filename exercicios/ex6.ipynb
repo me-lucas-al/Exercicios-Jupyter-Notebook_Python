{
 "cells": [
  {
   "cell_type": "markdown",
   "id": "c89cf271",
   "metadata": {},
   "source": [
    "6º) Escreva um programa que pergunte a quantidade de km percorridos por um carro alugado pelo usuário, assim como a quantidade de dias pelos quais o carro foi alugado. Calcule o preço a pagar, sabendo que o carro custa 60,00 reais por dia e 0,15 centavos por km rodado."
   ]
  },
  {
   "cell_type": "code",
   "execution_count": null,
   "id": "c7392a06",
   "metadata": {},
   "outputs": [
    {
     "name": "stdout",
     "output_type": "stream",
     "text": [
      "preço total:  210.0\n"
     ]
    }
   ],
   "source": [
    "days = int(input(\"Digite a quantidade de dias percorridos pelo carro: \"));\n",
    "kilometers = int(input(\"Digite a quantidade de kms percorridos pelo carro: \"));\n",
    "\n",
    "totalPrice = ((days * 60) + (kilometers * 0.15));\n",
    "\n",
    "print(\"preço total: \", totalPrice );"
   ]
  }
 ],
 "metadata": {
  "kernelspec": {
   "display_name": "Python 3",
   "language": "python",
   "name": "python3"
  },
  "language_info": {
   "codemirror_mode": {
    "name": "ipython",
    "version": 3
   },
   "file_extension": ".py",
   "mimetype": "text/x-python",
   "name": "python",
   "nbconvert_exporter": "python",
   "pygments_lexer": "ipython3",
   "version": "3.11.1"
  }
 },
 "nbformat": 4,
 "nbformat_minor": 5
}
