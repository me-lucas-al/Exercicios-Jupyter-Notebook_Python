{
 "cells": [
  {
   "cell_type": "markdown",
   "id": "298a48c7",
   "metadata": {},
   "source": [
    "12º) Escreva um programa que leia dois números. Imprima a divisão inteira do primeiro pelo segundo, assim como o resto da divisão. Utilize apenas os operadores de soma e subtração para calcular o resultado. Lembre-se de que podemos entender o quociente da divisão de dois números como a quantidade de vezes que podemos retirar o divisor do dividendo. Logo, 20 ÷ 4 = 5, uma vez que podemos subtrair 4 cinco vezes de 20."
   ]
  },
  {
   "cell_type": "code",
   "execution_count": 44,
   "id": "c3f7d7d7",
   "metadata": {},
   "outputs": [
    {
     "name": "stdout",
     "output_type": "stream",
     "text": [
      "O quociente da divisão é: 50\n",
      "O resto da divisão é: 1\n"
     ]
    }
   ],
   "source": [
    "n1 = int(input(\"Digite o primeiro número: \"))\n",
    "n2 = int(input(\"Digite o segundo número: \"))\n",
    "\n",
    "quociente = 0\n",
    "\n",
    "while n1 >= n2:\n",
    "    n1 -= n2      \n",
    "    quociente += 1\n",
    "\n",
    "print(\"O quociente da divisão é:\", quociente)\n",
    "print(\"O resto da divisão é:\", n1)\n"
   ]
  }
 ],
 "metadata": {
  "kernelspec": {
   "display_name": "Python 3",
   "language": "python",
   "name": "python3"
  },
  "language_info": {
   "codemirror_mode": {
    "name": "ipython",
    "version": 3
   },
   "file_extension": ".py",
   "mimetype": "text/x-python",
   "name": "python",
   "nbconvert_exporter": "python",
   "pygments_lexer": "ipython3",
   "version": "3.11.1"
  }
 },
 "nbformat": 4,
 "nbformat_minor": 5
}
