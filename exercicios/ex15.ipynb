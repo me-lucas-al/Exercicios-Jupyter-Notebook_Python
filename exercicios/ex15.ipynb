{
 "cells": [
  {
   "cell_type": "markdown",
   "id": "d184aa10",
   "metadata": {},
   "source": [
    "15º) Supondo que a população de uma cidade A seja da ordem de 80.000 habitantes com uma taxa anual de crescimento de X% e que a população da cidade B seja 200.000 habitantes com uma taxa de crescimento de Y%, onde X% deverá ser maior que Y%. Faça um programa que calcule e escreva o número de anos necessários para que a população da cidade A ultrapasse ou iguale a população da cidade B, mantidas as taxas de crescimento X% e Y% fornecidas pelo usuário."
   ]
  },
  {
   "cell_type": "code",
   "execution_count": 4,
   "id": "a6869918",
   "metadata": {},
   "outputs": [
    {
     "name": "stdout",
     "output_type": "stream",
     "text": [
      "Demorara  28  anos pra a cidade A ultrapassar ou igualar a cidade B\n"
     ]
    }
   ],
   "source": [
    "cidadeA = 80000;\n",
    "cidadeB = 200000;\n",
    "\n",
    "porcentagemX = float(input(\"Digite a porcentagem da taxa anual de crescimento da cidade A\"))\n",
    "porcentagemY = float(input(\"Digite a porcentagem da taxa anual de crescimento da cidade B\"))\n",
    "\n",
    "while (porcentagemX < porcentagemY):\n",
    "    porcentagemX = float(input(\"A porcentagem da cidade A deve ser maior que da cidade B. Digite novamente a porcentagem da taxa anual de crescimento da cidade A\"))\n",
    "    porcentagemY = float(input(\"Digite novamente a porcentagem da taxa anual de crescimento da cidade B\"))\n",
    "\n",
    "anos = 0\n",
    "\n",
    "while (cidadeA < cidadeB):\n",
    "    cidadeA = cidadeA + (cidadeA * (porcentagemX / 100))\n",
    "    cidadeB = cidadeB + (cidadeB * (porcentagemY / 100))\n",
    "\n",
    "    anos += 1\n",
    "\n",
    "print(\"Demorara \", anos, \" anos pra a cidade A ultrapassar ou igualar a cidade B\")\n"
   ]
  }
 ],
 "metadata": {
  "kernelspec": {
   "display_name": "Python 3",
   "language": "python",
   "name": "python3"
  },
  "language_info": {
   "codemirror_mode": {
    "name": "ipython",
    "version": 3
   },
   "file_extension": ".py",
   "mimetype": "text/x-python",
   "name": "python",
   "nbconvert_exporter": "python",
   "pygments_lexer": "ipython3",
   "version": "3.12.0"
  }
 },
 "nbformat": 4,
 "nbformat_minor": 5
}
