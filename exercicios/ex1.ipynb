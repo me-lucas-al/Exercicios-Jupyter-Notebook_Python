{
 "cells": [
  {
   "cell_type": "markdown",
   "id": "7fa5f6b8",
   "metadata": {},
   "source": [
    "1º) Escreva um programa que leia um valor em metros e o exiba convertido em milímetros."
   ]
  },
  {
   "cell_type": "code",
   "execution_count": 1,
   "id": "a824132d",
   "metadata": {},
   "outputs": [
    {
     "name": "stdout",
     "output_type": "stream",
     "text": [
      "10000\n"
     ]
    }
   ],
   "source": [
    "meters = int(input(\"Digite o valor em metros: \"));\n",
    "\n",
    "milimeters = meters * 1000;\n",
    "\n",
    "print(milimeters);"
   ]
  }
 ],
 "metadata": {
  "kernelspec": {
   "display_name": "Python 3",
   "language": "python",
   "name": "python3"
  },
  "language_info": {
   "codemirror_mode": {
    "name": "ipython",
    "version": 3
   },
   "file_extension": ".py",
   "mimetype": "text/x-python",
   "name": "python",
   "nbconvert_exporter": "python",
   "pygments_lexer": "ipython3",
   "version": "3.11.1"
  }
 },
 "nbformat": 4,
 "nbformat_minor": 5
}
