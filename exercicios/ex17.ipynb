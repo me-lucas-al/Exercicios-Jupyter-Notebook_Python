{
 "cells": [
  {
   "cell_type": "markdown",
   "id": "786f37bd",
   "metadata": {},
   "source": [
    "17º) Faça um programa que carregue uma lista com os modelos de cinco carros (exemplo de modelos: FUSCA, GOL, VECTRA etc). Carregue uma outra lista com o consumo desses carros, isto é, quantos quilômetros cada um desses carros gastam com um litro de combustível. Calcule e mostre:\n",
    "\n",
    "a. O modelo do carro mais econômico;<br>\n",
    "b. Quantos litros de combustível cada um dos carros cadastrados consome para percorrer uma distância de 1000 quilômetros e quanto isto custará, considerando um que a gasolina custe 6,19 reais o litro. <br>\n",
    "Abaixo segue uma tela de exemplo. O disposição das informações deve ser o mais próxima possível ao exemplo. Os dados são fictícios e podem mudar a cada execução do programa.\n",
    "```\n",
    "Comparativo de Consumo de Combustível\n",
    "\n",
    "Veículo 1\n",
    "Nome: fusca\n",
    "Km por litro: 7\n",
    "\n",
    "Veículo 2\n",
    "Nome: gol\n",
    "Km por litro: 10\n",
    "\n",
    "Veículo 3\n",
    "Nome: uno\n",
    "Km por litro: 12.5\n",
    "\n",
    "Veículo 4\n",
    "Nome: Vectra\n",
    "Km por litro: 9\n",
    "\n",
    "Veículo 5\n",
    "Nome: Peugeot\n",
    "Km por litro: 14.5\n",
    "\n",
    "Relatório Final (Exemplo)\n",
    " 1 - fusca           -    7.0 -  142.9 litros - 321.43 reais\n",
    " 2 - gol             -   10.0 -  100.0 litros - 225.00 reais\n",
    " 3 - uno             -   12.5 -   80.0 litros - 180.00 reais\n",
    " 4 - vectra          -    9.0 -  111.1 litros - 250.00 reais\n",
    " 5 - peugeot        -   14.5 -   69.0 litros -  155.17 reais\n",
    "O menor consumo é do peugeot.\n",
    "```"
   ]
  },
  {
   "cell_type": "code",
   "execution_count": null,
   "id": "e4108be9",
   "metadata": {},
   "outputs": [
    {
     "name": "stdout",
     "output_type": "stream",
     "text": [
      "Veículo 1\n",
      "\n",
      "Veículo 2\n",
      "\n",
      "Veículo 3\n",
      "\n",
      "Veículo 4\n",
      "\n",
      "Veículo 5\n",
      "\n",
      "\n",
      "Relatório Final\n",
      " 1 - lucas        -   15.0 -    66.7 litros -  412.67 reais\n",
      " 2 - lucas2       -   20.0 -    50.0 litros -  309.50 reais\n",
      " 3 - opa          -   12.0 -    83.3 litros -  515.83 reais\n",
      " 4 - opass        -   12.0 -    83.3 litros -  515.83 reais\n",
      " 5 - dads         - 24323.0 -     0.0 litros -    0.25 reais\n",
      "O menor consumo é do dads.\n"
     ]
    }
   ],
   "source": [
    "precoGasolina = 6.19\n",
    "distancia = 1000   \n",
    "\n",
    "carros = []\n",
    "consumos = []\n",
    "\n",
    "for i in range(5):\n",
    "    print(f\"Veículo {i+1}\")\n",
    "    modelo = input(\"Nome: \").strip()\n",
    "    km_por_litro = float(input(\"Km por litro: \"))\n",
    "    carros.append(modelo)\n",
    "    consumos.append(km_por_litro)\n",
    "    print()\n",
    "\n",
    "litros = [distancia / c for c in consumos]\n",
    "custos = [l * precoGasolina for l in litros]\n",
    "\n",
    "indice_melhor = consumos.index(max(consumos))\n",
    "\n",
    "print(\"\\nRelatório Final\")\n",
    "for i in range(5):\n",
    "    print(f\"{i+1:2d} - {carros[i]:12s} - {consumos[i]:6.1f} - \"f\"{litros[i]:7.1f} litros - {custos[i]:7.2f} reais\")\n",
    "\n",
    "print(f\"O menor consumo é do {carros[indice_melhor]}.\")\n"
   ]
  }
 ],
 "metadata": {
  "kernelspec": {
   "display_name": "Python 3",
   "language": "python",
   "name": "python3"
  },
  "language_info": {
   "codemirror_mode": {
    "name": "ipython",
    "version": 3
   },
   "file_extension": ".py",
   "mimetype": "text/x-python",
   "name": "python",
   "nbconvert_exporter": "python",
   "pygments_lexer": "ipython3",
   "version": "3.11.1"
  }
 },
 "nbformat": 4,
 "nbformat_minor": 5
}
